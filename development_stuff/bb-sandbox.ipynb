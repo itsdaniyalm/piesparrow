{
 "cells": [
  {
   "cell_type": "code",
   "execution_count": 1,
   "id": "11883293",
   "metadata": {},
   "outputs": [],
   "source": [
    "import pandas as pd"
   ]
  },
  {
   "cell_type": "code",
   "execution_count": 2,
   "id": "36067c38",
   "metadata": {},
   "outputs": [],
   "source": [
    "df = pd.read_csv(\"population.csv\")"
   ]
  },
  {
   "cell_type": "code",
   "execution_count": 3,
   "id": "557b3959",
   "metadata": {},
   "outputs": [
    {
     "data": {
      "text/html": [
       "<div>\n",
       "<style scoped>\n",
       "    .dataframe tbody tr th:only-of-type {\n",
       "        vertical-align: middle;\n",
       "    }\n",
       "\n",
       "    .dataframe tbody tr th {\n",
       "        vertical-align: top;\n",
       "    }\n",
       "\n",
       "    .dataframe thead th {\n",
       "        text-align: right;\n",
       "    }\n",
       "</style>\n",
       "<table border=\"1\" class=\"dataframe\">\n",
       "  <thead>\n",
       "    <tr style=\"text-align: right;\">\n",
       "      <th></th>\n",
       "      <th>Rank</th>\n",
       "      <th>City</th>\n",
       "      <th>Population 2020</th>\n",
       "      <th>Population 2021</th>\n",
       "      <th>Difference</th>\n",
       "    </tr>\n",
       "  </thead>\n",
       "  <tbody>\n",
       "    <tr>\n",
       "      <th>0</th>\n",
       "      <td>1</td>\n",
       "      <td>Karachi</td>\n",
       "      <td>16.09</td>\n",
       "      <td>16.46</td>\n",
       "      <td>0.37</td>\n",
       "    </tr>\n",
       "    <tr>\n",
       "      <th>1</th>\n",
       "      <td>2</td>\n",
       "      <td>Lahore</td>\n",
       "      <td>12.64</td>\n",
       "      <td>13.10</td>\n",
       "      <td>0.45</td>\n",
       "    </tr>\n",
       "    <tr>\n",
       "      <th>2</th>\n",
       "      <td>3</td>\n",
       "      <td>Faisalabad</td>\n",
       "      <td>3.46</td>\n",
       "      <td>3.54</td>\n",
       "      <td>0.08</td>\n",
       "    </tr>\n",
       "    <tr>\n",
       "      <th>3</th>\n",
       "      <td>4</td>\n",
       "      <td>Gujranwala</td>\n",
       "      <td>2.23</td>\n",
       "      <td>2.29</td>\n",
       "      <td>0.06</td>\n",
       "    </tr>\n",
       "    <tr>\n",
       "      <th>4</th>\n",
       "      <td>5</td>\n",
       "      <td>Rawalpindi</td>\n",
       "      <td>2.24</td>\n",
       "      <td>2.28</td>\n",
       "      <td>0.00</td>\n",
       "    </tr>\n",
       "  </tbody>\n",
       "</table>\n",
       "</div>"
      ],
      "text/plain": [
       "   Rank        City  Population 2020  Population 2021  Difference\n",
       "0     1     Karachi            16.09            16.46        0.37\n",
       "1     2      Lahore            12.64            13.10        0.45\n",
       "2     3  Faisalabad             3.46             3.54        0.08\n",
       "3     4  Gujranwala             2.23             2.29        0.06\n",
       "4     5  Rawalpindi             2.24             2.28        0.00"
      ]
     },
     "execution_count": 3,
     "metadata": {},
     "output_type": "execute_result"
    }
   ],
   "source": [
    "df"
   ]
  },
  {
   "cell_type": "code",
   "execution_count": 5,
   "id": "2c1fdf47",
   "metadata": {},
   "outputs": [],
   "source": [
    "df2 = pd.read_csv(\"pop_province.csv\")"
   ]
  },
  {
   "cell_type": "code",
   "execution_count": 6,
   "id": "5d41ec21",
   "metadata": {},
   "outputs": [
    {
     "data": {
      "text/html": [
       "<div>\n",
       "<style scoped>\n",
       "    .dataframe tbody tr th:only-of-type {\n",
       "        vertical-align: middle;\n",
       "    }\n",
       "\n",
       "    .dataframe tbody tr th {\n",
       "        vertical-align: top;\n",
       "    }\n",
       "\n",
       "    .dataframe thead th {\n",
       "        text-align: right;\n",
       "    }\n",
       "</style>\n",
       "<table border=\"1\" class=\"dataframe\">\n",
       "  <thead>\n",
       "    <tr style=\"text-align: right;\">\n",
       "      <th></th>\n",
       "      <th>Year</th>\n",
       "      <th>Balochistan</th>\n",
       "      <th>KPK</th>\n",
       "      <th>Punjab</th>\n",
       "      <th>Sindh</th>\n",
       "    </tr>\n",
       "  </thead>\n",
       "  <tbody>\n",
       "    <tr>\n",
       "      <th>0</th>\n",
       "      <td>1972</td>\n",
       "      <td>2.42</td>\n",
       "      <td>8.38</td>\n",
       "      <td>37.60</td>\n",
       "      <td>14.15</td>\n",
       "    </tr>\n",
       "    <tr>\n",
       "      <th>1</th>\n",
       "      <td>1981</td>\n",
       "      <td>4.33</td>\n",
       "      <td>11.06</td>\n",
       "      <td>47.29</td>\n",
       "      <td>14.15</td>\n",
       "    </tr>\n",
       "    <tr>\n",
       "      <th>2</th>\n",
       "      <td>1998</td>\n",
       "      <td>6.56</td>\n",
       "      <td>17.74</td>\n",
       "      <td>73.62</td>\n",
       "      <td>19.02</td>\n",
       "    </tr>\n",
       "    <tr>\n",
       "      <th>3</th>\n",
       "      <td>2017</td>\n",
       "      <td>12.33</td>\n",
       "      <td>30.50</td>\n",
       "      <td>109.98</td>\n",
       "      <td>30.43</td>\n",
       "    </tr>\n",
       "  </tbody>\n",
       "</table>\n",
       "</div>"
      ],
      "text/plain": [
       "   Year  Balochistan    KPK  Punjab  Sindh\n",
       "0  1972         2.42   8.38   37.60  14.15\n",
       "1  1981         4.33  11.06   47.29  14.15\n",
       "2  1998         6.56  17.74   73.62  19.02\n",
       "3  2017        12.33  30.50  109.98  30.43"
      ]
     },
     "execution_count": 6,
     "metadata": {},
     "output_type": "execute_result"
    }
   ],
   "source": [
    "df2"
   ]
  },
  {
   "cell_type": "code",
   "execution_count": 9,
   "id": "2ccb20af",
   "metadata": {},
   "outputs": [
    {
     "data": {
      "text/plain": [
       "[1972, 1981, 1998, 2017]"
      ]
     },
     "execution_count": 9,
     "metadata": {},
     "output_type": "execute_result"
    }
   ],
   "source": [
    "df2['Year'].to_list()"
   ]
  },
  {
   "cell_type": "code",
   "execution_count": 15,
   "id": "f8621a10",
   "metadata": {},
   "outputs": [],
   "source": [
    "data = ['Year','Balochistan','KPK', 'Punjab', 'Sindh']"
   ]
  },
  {
   "cell_type": "code",
   "execution_count": 35,
   "id": "e3f79339",
   "metadata": {},
   "outputs": [],
   "source": [
    "z=''\n",
    "for items in data:\n",
    "    x = items\n",
    "    y = df2[items].to_list()\n",
    "    z = z+f'''{x}:{y}, '''\n"
   ]
  },
  {
   "cell_type": "code",
   "execution_count": 36,
   "id": "a0999423",
   "metadata": {},
   "outputs": [
    {
     "name": "stdout",
     "output_type": "stream",
     "text": [
      "Year:[1972, 1981, 1998, 2017], Balochistan:[2.42, 4.33, 6.56, 12.33], KPK:[8.38, 11.06, 17.74, 30.5], Punjab:[37.6, 47.29, 73.62, 109.98], Sindh:[14.15, 14.15, 19.02, 30.43], \n"
     ]
    }
   ],
   "source": [
    "print(z)"
   ]
  }
 ],
 "metadata": {
  "kernelspec": {
   "display_name": "Python 3 (ipykernel)",
   "language": "python",
   "name": "python3"
  },
  "language_info": {
   "codemirror_mode": {
    "name": "ipython",
    "version": 3
   },
   "file_extension": ".py",
   "mimetype": "text/x-python",
   "name": "python",
   "nbconvert_exporter": "python",
   "pygments_lexer": "ipython3",
   "version": "3.9.15"
  }
 },
 "nbformat": 4,
 "nbformat_minor": 5
}
